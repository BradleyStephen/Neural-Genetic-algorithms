{
  "cells": [
    {
      "cell_type": "markdown",
      "metadata": {
        "id": "H_YIILPV3yCJ"
      },
      "source": [
        "# Assignment 2: Neural Networks: Backpropagation Algorithm Implementation\n"
      ]
    },
    {
      "cell_type": "markdown",
      "metadata": {
        "id": "lKS8Bv323yCK"
      },
      "source": [
        "## Introduction\n",
        "\n",
        "In this assignment, you will implement the backpropagation algorithm for a simple neural network. You'll be working with the Wine Quality dataset, which is a bit more challenging than typical introductory datasets. Your task is to complete the missing parts of the code to create a functioning neural network that can predict wine quality based on various features.\n"
      ]
    },
    {
      "cell_type": "markdown",
      "metadata": {
        "id": "jQP8bn3w3yCL"
      },
      "source": [
        "## Setup\n",
        "\n",
        "First, let's import the necessary libraries and load our data:"
      ]
    },
    {
      "cell_type": "code",
      "execution_count": 120,
      "metadata": {
        "id": "nCokMvvS3yCL"
      },
      "outputs": [],
      "source": [
        "import numpy as np\n",
        "import pandas as pd\n",
        "from sklearn.model_selection import train_test_split\n",
        "from sklearn.preprocessing import StandardScaler, MinMaxScaler\n",
        "import matplotlib.pyplot as plt"
      ]
    },
    {
      "cell_type": "markdown",
      "metadata": {
        "id": "u4HzjWpV3yCM"
      },
      "source": [
        "\n",
        "# Load the Wine Quality dataset"
      ]
    },
    {
      "cell_type": "code",
      "execution_count": 121,
      "metadata": {
        "id": "QXjQfLoM3yCM"
      },
      "outputs": [],
      "source": [
        "url = \"https://archive.ics.uci.edu/ml/machine-learning-databases/wine-quality/winequality-red.csv\"\n",
        "data = pd.read_csv(url, sep=\";\")\n"
      ]
    },
    {
      "cell_type": "markdown",
      "metadata": {
        "id": "YFvYS2BK3yCN"
      },
      "source": [
        "\n",
        "# Split features and target"
      ]
    },
    {
      "cell_type": "code",
      "execution_count": 122,
      "metadata": {
        "id": "Fcm6ptPX3yCN"
      },
      "outputs": [],
      "source": [
        "X = data.drop('quality', axis=1).values\n",
        "y = data['quality'].values"
      ]
    },
    {
      "cell_type": "markdown",
      "metadata": {
        "id": "-vRFz3GF3yCN"
      },
      "source": [
        "# Normalize the features"
      ]
    },
    {
      "cell_type": "code",
      "execution_count": 123,
      "metadata": {
        "id": "TDWEqLwN3yCN"
      },
      "outputs": [],
      "source": [
        "scaler = StandardScaler()\n",
        "\n",
        "X_train = scaler.fit_transform(X_train)\n",
        "X_test = scaler.transform(X_test)\n",
        "# Ensure y has shape (batch_size, 1)\n",
        "# Normalize the target variable to [0, 1]\n",
        "scaler_y = MinMaxScaler()\n",
        "y_train = y_train.reshape(-1, 1)\n",
        "y_test = y_test.reshape(-1, 1)\n",
        "y_train_scaled = scaler_y.fit_transform(y_train)\n",
        "y_test_scaled = scaler_y.transform(y_test)\n",
        "\n"
      ]
    },
    {
      "cell_type": "markdown",
      "metadata": {
        "id": "Vashwq3m3yCO"
      },
      "source": [
        "\n",
        "# Split the data"
      ]
    },
    {
      "cell_type": "markdown",
      "metadata": {
        "id": "MSa7nazM3yCO"
      },
      "source": [
        "\n",
        "\n",
        "```\n",
        "`# This is formatted as code`\n",
        "```\n",
        "\n",
        "X_train, X_test, y_train, y_test = train_test_split(X, y, test_size=0.2, random_state=42)"
      ]
    },
    {
      "cell_type": "markdown",
      "metadata": {
        "id": "ij6o8o6n3yCO"
      },
      "source": [
        "# Convert to numpy arrays"
      ]
    },
    {
      "cell_type": "code",
      "execution_count": 124,
      "metadata": {
        "id": "j962yk7f3yCO"
      },
      "outputs": [],
      "source": [
        "X_train = np.array(X_train)\n",
        "y_train = np.array(y_train)\n",
        "X_test = np.array(X_test)\n",
        "y_test = np.array(y_test)\n",
        "# Ensure y has shape (batch_size, 1)"
      ]
    },
    {
      "cell_type": "markdown",
      "metadata": {
        "id": "xXwq_V1m3yCO"
      },
      "source": [
        "\n",
        "## Neural Network Class\n",
        "\n",
        "- Now, let's define our Neural Network class. You'll need to complete the missing parts:"
      ]
    },
    {
      "cell_type": "code",
      "execution_count": 125,
      "metadata": {
        "id": "w8PBWMj13yCP"
      },
      "outputs": [],
      "source": [
        "class NeuralNetwork:\n",
        "    def __init__(self, input_size, hidden_size, output_size):\n",
        "        self.input_size = input_size\n",
        "        self.hidden_size = hidden_size\n",
        "        self.output_size = output_size\n",
        "\n",
        "        # Initialize weights and biases with Xavier initialization\n",
        "        self.W1 = np.random.randn(self.input_size, self.hidden_size) / np.sqrt(self.input_size)\n",
        "        self.b1 = np.zeros((1, self.hidden_size))\n",
        "        self.W2 = np.random.randn(self.hidden_size, self.output_size) / np.sqrt(self.hidden_size)\n",
        "        self.b2 = np.zeros((1, self.output_size))\n",
        "\n",
        "    def sigmoid(self, x):\n",
        "        return 1 / (1 + np.exp(-x))\n",
        "\n",
        "    def sigmoid_derivative(self, x):\n",
        "        # x is the output of the sigmoid function\n",
        "        return x * (1 - x)\n",
        "\n",
        "    def forward(self, X):\n",
        "        # Hidden layer\n",
        "        self.Z1 = np.dot(X, self.W1) + self.b1\n",
        "        self.A1 = self.sigmoid(self.Z1)\n",
        "\n",
        "        # Output layer\n",
        "        self.Z2 = np.dot(self.A1, self.W2) + self.b2\n",
        "        output = self.sigmoid(self.Z2)\n",
        "        return output\n",
        "\n",
        "    def backward(self, X, y, output, learning_rate):\n",
        "        # Compute the output layer error\n",
        "        output_error = output - y\n",
        "        output_delta = output_error * self.sigmoid_derivative(output)\n",
        "\n",
        "        # Compute the hidden layer error\n",
        "        hidden_error = np.dot(output_delta, self.W2.T)\n",
        "        hidden_delta = hidden_error * self.sigmoid_derivative(self.A1)\n",
        "\n",
        "        # Update weights and biases using gradients\n",
        "        self.W2 -= np.dot(self.A1.T, output_delta) * learning_rate\n",
        "        self.b2 -= np.sum(output_delta, axis=0, keepdims=True) * learning_rate\n",
        "        self.W1 -= np.dot(X.T, hidden_delta) * learning_rate\n",
        "        self.b1 -= np.sum(hidden_delta, axis=0, keepdims=True) * learning_rate\n",
        "\n",
        "\n",
        "    def train(self, X, y, learning_rate, epochs):\n",
        "        for epoch in range(epochs):\n",
        "            # Forward pass\n",
        "            output = self.forward(X)\n",
        "\n",
        "            # Backward pass\n",
        "            self.backward(X, y, output, learning_rate)\n",
        "\n",
        "            # Print loss every 100 epochs\n",
        "            if epoch % 100 == 0:\n",
        "                loss = np.mean(np.square(y - output))\n",
        "                print(f\"Epoch {epoch+1}/{epochs}, Loss: {loss}\")\n",
        "\n",
        "    def predict(self, X):\n",
        "        return self.forward(X)\n"
      ]
    },
    {
      "cell_type": "markdown",
      "metadata": {
        "id": "OmvgC6GX3yCP"
      },
      "source": [
        "# Create and train the neural network"
      ]
    },
    {
      "cell_type": "code",
      "execution_count": 126,
      "metadata": {
        "colab": {
          "base_uri": "https://localhost:8080/"
        },
        "id": "W1gdE8CO3yCP",
        "outputId": "2d620ad2-80a8-40d7-a79f-0e12ba83971c"
      },
      "outputs": [
        {
          "output_type": "stream",
          "name": "stdout",
          "text": [
            "Epoch 1/1000, Loss: 0.03533385377039965\n",
            "Epoch 101/1000, Loss: 0.018270973402347672\n",
            "Epoch 201/1000, Loss: 0.016611616994261634\n",
            "Epoch 301/1000, Loss: 0.016383703478750594\n",
            "Epoch 401/1000, Loss: 0.01617036710400159\n",
            "Epoch 501/1000, Loss: 0.01593225389921197\n",
            "Epoch 601/1000, Loss: 0.01567892617670102\n",
            "Epoch 701/1000, Loss: 0.01659442624653268\n",
            "Epoch 801/1000, Loss: 0.01578523681262034\n",
            "Epoch 901/1000, Loss: 0.01538111854380172\n"
          ]
        }
      ],
      "source": [
        "input_size = X_train.shape[1]\n",
        "hidden_size = 10\n",
        "output_size = 1\n",
        "y = y.reshape(-1, 1)  # Reshape y to be a column vector\n",
        "\n",
        "\n",
        "nn = NeuralNetwork(input_size, hidden_size, output_size)\n",
        "nn.train(X_train, y_train_scaled, learning_rate=0.01, epochs=1000)"
      ]
    },
    {
      "cell_type": "markdown",
      "metadata": {
        "id": "AUxQlSwC3yCP"
      },
      "source": [
        "# Make predictions"
      ]
    },
    {
      "cell_type": "code",
      "execution_count": 127,
      "metadata": {
        "id": "Nn3w7Wjb3yCP"
      },
      "outputs": [],
      "source": [
        "# Make predictions for training and test sets\n",
        "train_predictions = nn.predict(X_train)\n",
        "test_predictions = nn.predict(X_test)\n",
        "\n",
        "train_predictions = scaler_y.inverse_transform(nn.predict(X_train))\n",
        "test_predictions = scaler_y.inverse_transform(nn.predict(X_test))\n"
      ]
    },
    {
      "cell_type": "markdown",
      "metadata": {
        "id": "X69dX83p3yCQ"
      },
      "source": [
        "# Calculate MSE"
      ]
    },
    {
      "cell_type": "code",
      "execution_count": 128,
      "metadata": {
        "colab": {
          "base_uri": "https://localhost:8080/"
        },
        "id": "I7wQTTEw3yCQ",
        "outputId": "4ef1e1fd-9a13-4429-8aaa-e9aa6f5e9eda"
      },
      "outputs": [
        {
          "output_type": "stream",
          "name": "stdout",
          "text": [
            "Train MSE: 0.3838263222156152\n",
            "Test MSE: 0.35689598752055424\n"
          ]
        }
      ],
      "source": [
        "# Calculate Mean Squared Error (MSE) for training and testing predictions\n",
        "train_mse = np.mean(np.square(y_train - train_predictions))\n",
        "test_mse = np.mean(np.square(y_test - test_predictions))\n",
        "\n",
        "# Print the MSE results\n",
        "print(f\"Train MSE: {train_mse}\")\n",
        "print(f\"Test MSE: {test_mse}\")"
      ]
    },
    {
      "cell_type": "code",
      "source": [
        "import matplotlib.pyplot as plt\n",
        "\n",
        "# Plot actual vs predicted for the training set\n",
        "plt.figure(figsize=(10, 5))\n",
        "plt.subplot(1, 2, 1)\n",
        "plt.scatter(y_train, train_predictions)\n",
        "plt.plot([y_train.min(), y_train.max()], [y_train.min(), y_train.max()], 'k--', lw=2)\n",
        "plt.xlabel('Actual')\n",
        "plt.ylabel('Predicted')\n",
        "plt.title('Training Set: Actual vs Predicted')\n",
        "\n",
        "# Plot actual vs predicted for the test set\n",
        "plt.subplot(1, 2, 2)\n",
        "plt.scatter(y_test, test_predictions)\n",
        "plt.plot([y_test.min(), y_test.max()], [y_test.min(), y_test.max()], 'k--', lw=2)\n",
        "plt.xlabel('Actual')\n",
        "plt.ylabel('Predicted')\n",
        "plt.title('Test Set: Actual vs Predicted')\n",
        "\n",
        "plt.show()\n"
      ],
      "metadata": {
        "colab": {
          "base_uri": "https://localhost:8080/",
          "height": 467
        },
        "id": "yDHGRC5mBIrE",
        "outputId": "a85e0baa-c6f1-4922-c2d0-f6dec4500a79"
      },
      "execution_count": 129,
      "outputs": [
        {
          "output_type": "display_data",
          "data": {
            "text/plain": [
              "<Figure size 1000x500 with 2 Axes>"
            ],
            "image/png": "[encoded data removed]"
          },
          "metadata": {}
        }
      ]
    },
    {
      "cell_type": "markdown",
      "metadata": {
        "id": "hutunjmN3yCQ"
      },
      "source": [
        "## Tasks\n",
        "\n",
        "1. Implement the `forward` method to perform the forward pass through the network.\n",
        "2. Implement the `backward` method to perform backpropagation and calculate gradients.\n",
        "3. Complete the `train` method to update weights and biases using the calculated gradients.\n",
        "4. Implement the `predict` method to make predictions using the trained network.\n",
        "5. Run the entire notebook and report the final Train and Test MSE.\n",
        "6. Experiment with different hyperparameters (learning rate, number of epochs, hidden layer size) and observe their effects on the model's performance.\n",
        "\n",
        "## Submission\n",
        "\n",
        "Submit your completed Jupyter notebook along with a brief report (max 500 words) discussing:\n",
        "1. Your implementation choices\n",
        "2. The challenges you faced\n",
        "3. The effects of different hyperparameters on the model's performance\n",
        "4. Suggestions for improving the model further\n",
        "\n",
        "Good luck!"
      ]
    }
  ],
  "metadata": {
    "kernelspec": {
      "display_name": "keras",
      "language": "python",
      "name": "python3"
    },
    "language_info": {
      "name": "python",
      "version": "3.10.4"
    },
    "colab": {
      "provenance": []
    }
  },
  "nbformat": 4,
  "nbformat_minor": 0
}